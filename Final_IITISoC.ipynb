{
  "nbformat": 4,
  "nbformat_minor": 0,
  "metadata": {
    "colab": {
      "provenance": [],
      "gpuType": "T4"
    },
    "kernelspec": {
      "name": "python3",
      "display_name": "Python 3"
    },
    "language_info": {
      "name": "python"
    },
    "accelerator": "GPU",
    "widgets": {
      "application/vnd.jupyter.widget-state+json": {
        "1ec4ed55c5124842b34ce61e65059ad4": {
          "model_module": "@jupyter-widgets/controls",
          "model_name": "HBoxModel",
          "model_module_version": "1.5.0",
          "state": {
            "_dom_classes": [],
            "_model_module": "@jupyter-widgets/controls",
            "_model_module_version": "1.5.0",
            "_model_name": "HBoxModel",
            "_view_count": null,
            "_view_module": "@jupyter-widgets/controls",
            "_view_module_version": "1.5.0",
            "_view_name": "HBoxView",
            "box_style": "",
            "children": [
              "IPY_MODEL_904ef60b412a4ad0a5373466e40eaa8d",
              "IPY_MODEL_182cd10b37994e0dbfae8c7df25ff564",
              "IPY_MODEL_15a6b2e8024c4614b4a345707e3657de"
            ],
            "layout": "IPY_MODEL_88565ef0342e4f6b99be1a38c48ff83f"
          }
        },
        "904ef60b412a4ad0a5373466e40eaa8d": {
          "model_module": "@jupyter-widgets/controls",
          "model_name": "HTMLModel",
          "model_module_version": "1.5.0",
          "state": {
            "_dom_classes": [],
            "_model_module": "@jupyter-widgets/controls",
            "_model_module_version": "1.5.0",
            "_model_name": "HTMLModel",
            "_view_count": null,
            "_view_module": "@jupyter-widgets/controls",
            "_view_module_version": "1.5.0",
            "_view_name": "HTMLView",
            "description": "",
            "description_tooltip": null,
            "layout": "IPY_MODEL_fb57f5c737804c67bbcaa1c716131b9f",
            "placeholder": "​",
            "style": "IPY_MODEL_4fcdf222c44a478f9679522161e280e8",
            "value": "Loading checkpoint shards: 100%"
          }
        },
        "182cd10b37994e0dbfae8c7df25ff564": {
          "model_module": "@jupyter-widgets/controls",
          "model_name": "FloatProgressModel",
          "model_module_version": "1.5.0",
          "state": {
            "_dom_classes": [],
            "_model_module": "@jupyter-widgets/controls",
            "_model_module_version": "1.5.0",
            "_model_name": "FloatProgressModel",
            "_view_count": null,
            "_view_module": "@jupyter-widgets/controls",
            "_view_module_version": "1.5.0",
            "_view_name": "ProgressView",
            "bar_style": "success",
            "description": "",
            "description_tooltip": null,
            "layout": "IPY_MODEL_2adf6e6f2865497f934862e47c346967",
            "max": 2,
            "min": 0,
            "orientation": "horizontal",
            "style": "IPY_MODEL_cc266240d3784f7394f6274d8954101d",
            "value": 2
          }
        },
        "15a6b2e8024c4614b4a345707e3657de": {
          "model_module": "@jupyter-widgets/controls",
          "model_name": "HTMLModel",
          "model_module_version": "1.5.0",
          "state": {
            "_dom_classes": [],
            "_model_module": "@jupyter-widgets/controls",
            "_model_module_version": "1.5.0",
            "_model_name": "HTMLModel",
            "_view_count": null,
            "_view_module": "@jupyter-widgets/controls",
            "_view_module_version": "1.5.0",
            "_view_name": "HTMLView",
            "description": "",
            "description_tooltip": null,
            "layout": "IPY_MODEL_3e84e6021f894bdd93b6a181619d0ca3",
            "placeholder": "​",
            "style": "IPY_MODEL_02ef58c3884d4f0bb9350ef06a5ff85b",
            "value": " 2/2 [00:33&lt;00:00, 15.77s/it]"
          }
        },
        "88565ef0342e4f6b99be1a38c48ff83f": {
          "model_module": "@jupyter-widgets/base",
          "model_name": "LayoutModel",
          "model_module_version": "1.2.0",
          "state": {
            "_model_module": "@jupyter-widgets/base",
            "_model_module_version": "1.2.0",
            "_model_name": "LayoutModel",
            "_view_count": null,
            "_view_module": "@jupyter-widgets/base",
            "_view_module_version": "1.2.0",
            "_view_name": "LayoutView",
            "align_content": null,
            "align_items": null,
            "align_self": null,
            "border": null,
            "bottom": null,
            "display": null,
            "flex": null,
            "flex_flow": null,
            "grid_area": null,
            "grid_auto_columns": null,
            "grid_auto_flow": null,
            "grid_auto_rows": null,
            "grid_column": null,
            "grid_gap": null,
            "grid_row": null,
            "grid_template_areas": null,
            "grid_template_columns": null,
            "grid_template_rows": null,
            "height": null,
            "justify_content": null,
            "justify_items": null,
            "left": null,
            "margin": null,
            "max_height": null,
            "max_width": null,
            "min_height": null,
            "min_width": null,
            "object_fit": null,
            "object_position": null,
            "order": null,
            "overflow": null,
            "overflow_x": null,
            "overflow_y": null,
            "padding": null,
            "right": null,
            "top": null,
            "visibility": null,
            "width": null
          }
        },
        "fb57f5c737804c67bbcaa1c716131b9f": {
          "model_module": "@jupyter-widgets/base",
          "model_name": "LayoutModel",
          "model_module_version": "1.2.0",
          "state": {
            "_model_module": "@jupyter-widgets/base",
            "_model_module_version": "1.2.0",
            "_model_name": "LayoutModel",
            "_view_count": null,
            "_view_module": "@jupyter-widgets/base",
            "_view_module_version": "1.2.0",
            "_view_name": "LayoutView",
            "align_content": null,
            "align_items": null,
            "align_self": null,
            "border": null,
            "bottom": null,
            "display": null,
            "flex": null,
            "flex_flow": null,
            "grid_area": null,
            "grid_auto_columns": null,
            "grid_auto_flow": null,
            "grid_auto_rows": null,
            "grid_column": null,
            "grid_gap": null,
            "grid_row": null,
            "grid_template_areas": null,
            "grid_template_columns": null,
            "grid_template_rows": null,
            "height": null,
            "justify_content": null,
            "justify_items": null,
            "left": null,
            "margin": null,
            "max_height": null,
            "max_width": null,
            "min_height": null,
            "min_width": null,
            "object_fit": null,
            "object_position": null,
            "order": null,
            "overflow": null,
            "overflow_x": null,
            "overflow_y": null,
            "padding": null,
            "right": null,
            "top": null,
            "visibility": null,
            "width": null
          }
        },
        "4fcdf222c44a478f9679522161e280e8": {
          "model_module": "@jupyter-widgets/controls",
          "model_name": "DescriptionStyleModel",
          "model_module_version": "1.5.0",
          "state": {
            "_model_module": "@jupyter-widgets/controls",
            "_model_module_version": "1.5.0",
            "_model_name": "DescriptionStyleModel",
            "_view_count": null,
            "_view_module": "@jupyter-widgets/base",
            "_view_module_version": "1.2.0",
            "_view_name": "StyleView",
            "description_width": ""
          }
        },
        "2adf6e6f2865497f934862e47c346967": {
          "model_module": "@jupyter-widgets/base",
          "model_name": "LayoutModel",
          "model_module_version": "1.2.0",
          "state": {
            "_model_module": "@jupyter-widgets/base",
            "_model_module_version": "1.2.0",
            "_model_name": "LayoutModel",
            "_view_count": null,
            "_view_module": "@jupyter-widgets/base",
            "_view_module_version": "1.2.0",
            "_view_name": "LayoutView",
            "align_content": null,
            "align_items": null,
            "align_self": null,
            "border": null,
            "bottom": null,
            "display": null,
            "flex": null,
            "flex_flow": null,
            "grid_area": null,
            "grid_auto_columns": null,
            "grid_auto_flow": null,
            "grid_auto_rows": null,
            "grid_column": null,
            "grid_gap": null,
            "grid_row": null,
            "grid_template_areas": null,
            "grid_template_columns": null,
            "grid_template_rows": null,
            "height": null,
            "justify_content": null,
            "justify_items": null,
            "left": null,
            "margin": null,
            "max_height": null,
            "max_width": null,
            "min_height": null,
            "min_width": null,
            "object_fit": null,
            "object_position": null,
            "order": null,
            "overflow": null,
            "overflow_x": null,
            "overflow_y": null,
            "padding": null,
            "right": null,
            "top": null,
            "visibility": null,
            "width": null
          }
        },
        "cc266240d3784f7394f6274d8954101d": {
          "model_module": "@jupyter-widgets/controls",
          "model_name": "ProgressStyleModel",
          "model_module_version": "1.5.0",
          "state": {
            "_model_module": "@jupyter-widgets/controls",
            "_model_module_version": "1.5.0",
            "_model_name": "ProgressStyleModel",
            "_view_count": null,
            "_view_module": "@jupyter-widgets/base",
            "_view_module_version": "1.2.0",
            "_view_name": "StyleView",
            "bar_color": null,
            "description_width": ""
          }
        },
        "3e84e6021f894bdd93b6a181619d0ca3": {
          "model_module": "@jupyter-widgets/base",
          "model_name": "LayoutModel",
          "model_module_version": "1.2.0",
          "state": {
            "_model_module": "@jupyter-widgets/base",
            "_model_module_version": "1.2.0",
            "_model_name": "LayoutModel",
            "_view_count": null,
            "_view_module": "@jupyter-widgets/base",
            "_view_module_version": "1.2.0",
            "_view_name": "LayoutView",
            "align_content": null,
            "align_items": null,
            "align_self": null,
            "border": null,
            "bottom": null,
            "display": null,
            "flex": null,
            "flex_flow": null,
            "grid_area": null,
            "grid_auto_columns": null,
            "grid_auto_flow": null,
            "grid_auto_rows": null,
            "grid_column": null,
            "grid_gap": null,
            "grid_row": null,
            "grid_template_areas": null,
            "grid_template_columns": null,
            "grid_template_rows": null,
            "height": null,
            "justify_content": null,
            "justify_items": null,
            "left": null,
            "margin": null,
            "max_height": null,
            "max_width": null,
            "min_height": null,
            "min_width": null,
            "object_fit": null,
            "object_position": null,
            "order": null,
            "overflow": null,
            "overflow_x": null,
            "overflow_y": null,
            "padding": null,
            "right": null,
            "top": null,
            "visibility": null,
            "width": null
          }
        },
        "02ef58c3884d4f0bb9350ef06a5ff85b": {
          "model_module": "@jupyter-widgets/controls",
          "model_name": "DescriptionStyleModel",
          "model_module_version": "1.5.0",
          "state": {
            "_model_module": "@jupyter-widgets/controls",
            "_model_module_version": "1.5.0",
            "_model_name": "DescriptionStyleModel",
            "_view_count": null,
            "_view_module": "@jupyter-widgets/base",
            "_view_module_version": "1.2.0",
            "_view_name": "StyleView",
            "description_width": ""
          }
        },
        "e2808f77b3994ce990f3d4395be75402": {
          "model_module": "@jupyter-widgets/controls",
          "model_name": "HBoxModel",
          "model_module_version": "1.5.0",
          "state": {
            "_dom_classes": [],
            "_model_module": "@jupyter-widgets/controls",
            "_model_module_version": "1.5.0",
            "_model_name": "HBoxModel",
            "_view_count": null,
            "_view_module": "@jupyter-widgets/controls",
            "_view_module_version": "1.5.0",
            "_view_name": "HBoxView",
            "box_style": "",
            "children": [
              "IPY_MODEL_3f08ed565aa542859594767a7a3ca862",
              "IPY_MODEL_7da376f5a1754b97861aaf8b91349d56",
              "IPY_MODEL_a1495d80314f4fdc8cc94ea68ecf083e"
            ],
            "layout": "IPY_MODEL_1ffec2b1ba104bf183b810ef7488eaed"
          }
        },
        "3f08ed565aa542859594767a7a3ca862": {
          "model_module": "@jupyter-widgets/controls",
          "model_name": "HTMLModel",
          "model_module_version": "1.5.0",
          "state": {
            "_dom_classes": [],
            "_model_module": "@jupyter-widgets/controls",
            "_model_module_version": "1.5.0",
            "_model_name": "HTMLModel",
            "_view_count": null,
            "_view_module": "@jupyter-widgets/controls",
            "_view_module_version": "1.5.0",
            "_view_name": "HTMLView",
            "description": "",
            "description_tooltip": null,
            "layout": "IPY_MODEL_b25830f1ed7f4bdcae80b1f2eb42e74a",
            "placeholder": "​",
            "style": "IPY_MODEL_ea609bba647c45cdbe76a260b8e43ebb",
            "value": "Loading checkpoint shards: 100%"
          }
        },
        "7da376f5a1754b97861aaf8b91349d56": {
          "model_module": "@jupyter-widgets/controls",
          "model_name": "FloatProgressModel",
          "model_module_version": "1.5.0",
          "state": {
            "_dom_classes": [],
            "_model_module": "@jupyter-widgets/controls",
            "_model_module_version": "1.5.0",
            "_model_name": "FloatProgressModel",
            "_view_count": null,
            "_view_module": "@jupyter-widgets/controls",
            "_view_module_version": "1.5.0",
            "_view_name": "ProgressView",
            "bar_style": "success",
            "description": "",
            "description_tooltip": null,
            "layout": "IPY_MODEL_2474b7a6656e492bbfcb1984ebac3f25",
            "max": 4,
            "min": 0,
            "orientation": "horizontal",
            "style": "IPY_MODEL_48b9c2753d5f41e8b57ad9913ccc3d4c",
            "value": 4
          }
        },
        "a1495d80314f4fdc8cc94ea68ecf083e": {
          "model_module": "@jupyter-widgets/controls",
          "model_name": "HTMLModel",
          "model_module_version": "1.5.0",
          "state": {
            "_dom_classes": [],
            "_model_module": "@jupyter-widgets/controls",
            "_model_module_version": "1.5.0",
            "_model_name": "HTMLModel",
            "_view_count": null,
            "_view_module": "@jupyter-widgets/controls",
            "_view_module_version": "1.5.0",
            "_view_name": "HTMLView",
            "description": "",
            "description_tooltip": null,
            "layout": "IPY_MODEL_8d5ff351304d4a06965f45700e9c4635",
            "placeholder": "​",
            "style": "IPY_MODEL_11b2ce87692244d4b7a2079edc70d07f",
            "value": " 4/4 [02:39&lt;00:00, 38.75s/it]"
          }
        },
        "1ffec2b1ba104bf183b810ef7488eaed": {
          "model_module": "@jupyter-widgets/base",
          "model_name": "LayoutModel",
          "model_module_version": "1.2.0",
          "state": {
            "_model_module": "@jupyter-widgets/base",
            "_model_module_version": "1.2.0",
            "_model_name": "LayoutModel",
            "_view_count": null,
            "_view_module": "@jupyter-widgets/base",
            "_view_module_version": "1.2.0",
            "_view_name": "LayoutView",
            "align_content": null,
            "align_items": null,
            "align_self": null,
            "border": null,
            "bottom": null,
            "display": null,
            "flex": null,
            "flex_flow": null,
            "grid_area": null,
            "grid_auto_columns": null,
            "grid_auto_flow": null,
            "grid_auto_rows": null,
            "grid_column": null,
            "grid_gap": null,
            "grid_row": null,
            "grid_template_areas": null,
            "grid_template_columns": null,
            "grid_template_rows": null,
            "height": null,
            "justify_content": null,
            "justify_items": null,
            "left": null,
            "margin": null,
            "max_height": null,
            "max_width": null,
            "min_height": null,
            "min_width": null,
            "object_fit": null,
            "object_position": null,
            "order": null,
            "overflow": null,
            "overflow_x": null,
            "overflow_y": null,
            "padding": null,
            "right": null,
            "top": null,
            "visibility": null,
            "width": null
          }
        },
        "b25830f1ed7f4bdcae80b1f2eb42e74a": {
          "model_module": "@jupyter-widgets/base",
          "model_name": "LayoutModel",
          "model_module_version": "1.2.0",
          "state": {
            "_model_module": "@jupyter-widgets/base",
            "_model_module_version": "1.2.0",
            "_model_name": "LayoutModel",
            "_view_count": null,
            "_view_module": "@jupyter-widgets/base",
            "_view_module_version": "1.2.0",
            "_view_name": "LayoutView",
            "align_content": null,
            "align_items": null,
            "align_self": null,
            "border": null,
            "bottom": null,
            "display": null,
            "flex": null,
            "flex_flow": null,
            "grid_area": null,
            "grid_auto_columns": null,
            "grid_auto_flow": null,
            "grid_auto_rows": null,
            "grid_column": null,
            "grid_gap": null,
            "grid_row": null,
            "grid_template_areas": null,
            "grid_template_columns": null,
            "grid_template_rows": null,
            "height": null,
            "justify_content": null,
            "justify_items": null,
            "left": null,
            "margin": null,
            "max_height": null,
            "max_width": null,
            "min_height": null,
            "min_width": null,
            "object_fit": null,
            "object_position": null,
            "order": null,
            "overflow": null,
            "overflow_x": null,
            "overflow_y": null,
            "padding": null,
            "right": null,
            "top": null,
            "visibility": null,
            "width": null
          }
        },
        "ea609bba647c45cdbe76a260b8e43ebb": {
          "model_module": "@jupyter-widgets/controls",
          "model_name": "DescriptionStyleModel",
          "model_module_version": "1.5.0",
          "state": {
            "_model_module": "@jupyter-widgets/controls",
            "_model_module_version": "1.5.0",
            "_model_name": "DescriptionStyleModel",
            "_view_count": null,
            "_view_module": "@jupyter-widgets/base",
            "_view_module_version": "1.2.0",
            "_view_name": "StyleView",
            "description_width": ""
          }
        },
        "2474b7a6656e492bbfcb1984ebac3f25": {
          "model_module": "@jupyter-widgets/base",
          "model_name": "LayoutModel",
          "model_module_version": "1.2.0",
          "state": {
            "_model_module": "@jupyter-widgets/base",
            "_model_module_version": "1.2.0",
            "_model_name": "LayoutModel",
            "_view_count": null,
            "_view_module": "@jupyter-widgets/base",
            "_view_module_version": "1.2.0",
            "_view_name": "LayoutView",
            "align_content": null,
            "align_items": null,
            "align_self": null,
            "border": null,
            "bottom": null,
            "display": null,
            "flex": null,
            "flex_flow": null,
            "grid_area": null,
            "grid_auto_columns": null,
            "grid_auto_flow": null,
            "grid_auto_rows": null,
            "grid_column": null,
            "grid_gap": null,
            "grid_row": null,
            "grid_template_areas": null,
            "grid_template_columns": null,
            "grid_template_rows": null,
            "height": null,
            "justify_content": null,
            "justify_items": null,
            "left": null,
            "margin": null,
            "max_height": null,
            "max_width": null,
            "min_height": null,
            "min_width": null,
            "object_fit": null,
            "object_position": null,
            "order": null,
            "overflow": null,
            "overflow_x": null,
            "overflow_y": null,
            "padding": null,
            "right": null,
            "top": null,
            "visibility": null,
            "width": null
          }
        },
        "48b9c2753d5f41e8b57ad9913ccc3d4c": {
          "model_module": "@jupyter-widgets/controls",
          "model_name": "ProgressStyleModel",
          "model_module_version": "1.5.0",
          "state": {
            "_model_module": "@jupyter-widgets/controls",
            "_model_module_version": "1.5.0",
            "_model_name": "ProgressStyleModel",
            "_view_count": null,
            "_view_module": "@jupyter-widgets/base",
            "_view_module_version": "1.2.0",
            "_view_name": "StyleView",
            "bar_color": null,
            "description_width": ""
          }
        },
        "8d5ff351304d4a06965f45700e9c4635": {
          "model_module": "@jupyter-widgets/base",
          "model_name": "LayoutModel",
          "model_module_version": "1.2.0",
          "state": {
            "_model_module": "@jupyter-widgets/base",
            "_model_module_version": "1.2.0",
            "_model_name": "LayoutModel",
            "_view_count": null,
            "_view_module": "@jupyter-widgets/base",
            "_view_module_version": "1.2.0",
            "_view_name": "LayoutView",
            "align_content": null,
            "align_items": null,
            "align_self": null,
            "border": null,
            "bottom": null,
            "display": null,
            "flex": null,
            "flex_flow": null,
            "grid_area": null,
            "grid_auto_columns": null,
            "grid_auto_flow": null,
            "grid_auto_rows": null,
            "grid_column": null,
            "grid_gap": null,
            "grid_row": null,
            "grid_template_areas": null,
            "grid_template_columns": null,
            "grid_template_rows": null,
            "height": null,
            "justify_content": null,
            "justify_items": null,
            "left": null,
            "margin": null,
            "max_height": null,
            "max_width": null,
            "min_height": null,
            "min_width": null,
            "object_fit": null,
            "object_position": null,
            "order": null,
            "overflow": null,
            "overflow_x": null,
            "overflow_y": null,
            "padding": null,
            "right": null,
            "top": null,
            "visibility": null,
            "width": null
          }
        },
        "11b2ce87692244d4b7a2079edc70d07f": {
          "model_module": "@jupyter-widgets/controls",
          "model_name": "DescriptionStyleModel",
          "model_module_version": "1.5.0",
          "state": {
            "_model_module": "@jupyter-widgets/controls",
            "_model_module_version": "1.5.0",
            "_model_name": "DescriptionStyleModel",
            "_view_count": null,
            "_view_module": "@jupyter-widgets/base",
            "_view_module_version": "1.2.0",
            "_view_name": "StyleView",
            "description_width": ""
          }
        },
        "34f8ebfb90904cb8a90385558492411c": {
          "model_module": "@jupyter-widgets/controls",
          "model_name": "HBoxModel",
          "model_module_version": "1.5.0",
          "state": {
            "_dom_classes": [],
            "_model_module": "@jupyter-widgets/controls",
            "_model_module_version": "1.5.0",
            "_model_name": "HBoxModel",
            "_view_count": null,
            "_view_module": "@jupyter-widgets/controls",
            "_view_module_version": "1.5.0",
            "_view_name": "HBoxView",
            "box_style": "",
            "children": [
              "IPY_MODEL_f69620ad36c1463cabc9894c908a100e",
              "IPY_MODEL_db4014583ca547718801be5da68b72a8",
              "IPY_MODEL_083b2bffc0f04ffd86743790e7bd30d2"
            ],
            "layout": "IPY_MODEL_0efd52c1c92f49ac915478a20357fb03"
          }
        },
        "f69620ad36c1463cabc9894c908a100e": {
          "model_module": "@jupyter-widgets/controls",
          "model_name": "HTMLModel",
          "model_module_version": "1.5.0",
          "state": {
            "_dom_classes": [],
            "_model_module": "@jupyter-widgets/controls",
            "_model_module_version": "1.5.0",
            "_model_name": "HTMLModel",
            "_view_count": null,
            "_view_module": "@jupyter-widgets/controls",
            "_view_module_version": "1.5.0",
            "_view_name": "HTMLView",
            "description": "",
            "description_tooltip": null,
            "layout": "IPY_MODEL_c8fddd485f56404397d2afaed82f7b94",
            "placeholder": "​",
            "style": "IPY_MODEL_82e89739f13d4f61978afbaa527cf6e9",
            "value": "generation_config.json: 100%"
          }
        },
        "db4014583ca547718801be5da68b72a8": {
          "model_module": "@jupyter-widgets/controls",
          "model_name": "FloatProgressModel",
          "model_module_version": "1.5.0",
          "state": {
            "_dom_classes": [],
            "_model_module": "@jupyter-widgets/controls",
            "_model_module_version": "1.5.0",
            "_model_name": "FloatProgressModel",
            "_view_count": null,
            "_view_module": "@jupyter-widgets/controls",
            "_view_module_version": "1.5.0",
            "_view_name": "ProgressView",
            "bar_style": "success",
            "description": "",
            "description_tooltip": null,
            "layout": "IPY_MODEL_79c2ed1ad1964409b2c8b4e5304ca767",
            "max": 181,
            "min": 0,
            "orientation": "horizontal",
            "style": "IPY_MODEL_fe2e63e470c9456eb87a7c223fccc2e7",
            "value": 181
          }
        },
        "083b2bffc0f04ffd86743790e7bd30d2": {
          "model_module": "@jupyter-widgets/controls",
          "model_name": "HTMLModel",
          "model_module_version": "1.5.0",
          "state": {
            "_dom_classes": [],
            "_model_module": "@jupyter-widgets/controls",
            "_model_module_version": "1.5.0",
            "_model_name": "HTMLModel",
            "_view_count": null,
            "_view_module": "@jupyter-widgets/controls",
            "_view_module_version": "1.5.0",
            "_view_name": "HTMLView",
            "description": "",
            "description_tooltip": null,
            "layout": "IPY_MODEL_183dca253ba040f59ed29ea8eef1d052",
            "placeholder": "​",
            "style": "IPY_MODEL_f4f8b83f1ef94e4c936c649e697194aa",
            "value": " 181/181 [00:00&lt;00:00, 7.95kB/s]"
          }
        },
        "0efd52c1c92f49ac915478a20357fb03": {
          "model_module": "@jupyter-widgets/base",
          "model_name": "LayoutModel",
          "model_module_version": "1.2.0",
          "state": {
            "_model_module": "@jupyter-widgets/base",
            "_model_module_version": "1.2.0",
            "_model_name": "LayoutModel",
            "_view_count": null,
            "_view_module": "@jupyter-widgets/base",
            "_view_module_version": "1.2.0",
            "_view_name": "LayoutView",
            "align_content": null,
            "align_items": null,
            "align_self": null,
            "border": null,
            "bottom": null,
            "display": null,
            "flex": null,
            "flex_flow": null,
            "grid_area": null,
            "grid_auto_columns": null,
            "grid_auto_flow": null,
            "grid_auto_rows": null,
            "grid_column": null,
            "grid_gap": null,
            "grid_row": null,
            "grid_template_areas": null,
            "grid_template_columns": null,
            "grid_template_rows": null,
            "height": null,
            "justify_content": null,
            "justify_items": null,
            "left": null,
            "margin": null,
            "max_height": null,
            "max_width": null,
            "min_height": null,
            "min_width": null,
            "object_fit": null,
            "object_position": null,
            "order": null,
            "overflow": null,
            "overflow_x": null,
            "overflow_y": null,
            "padding": null,
            "right": null,
            "top": null,
            "visibility": null,
            "width": null
          }
        },
        "c8fddd485f56404397d2afaed82f7b94": {
          "model_module": "@jupyter-widgets/base",
          "model_name": "LayoutModel",
          "model_module_version": "1.2.0",
          "state": {
            "_model_module": "@jupyter-widgets/base",
            "_model_module_version": "1.2.0",
            "_model_name": "LayoutModel",
            "_view_count": null,
            "_view_module": "@jupyter-widgets/base",
            "_view_module_version": "1.2.0",
            "_view_name": "LayoutView",
            "align_content": null,
            "align_items": null,
            "align_self": null,
            "border": null,
            "bottom": null,
            "display": null,
            "flex": null,
            "flex_flow": null,
            "grid_area": null,
            "grid_auto_columns": null,
            "grid_auto_flow": null,
            "grid_auto_rows": null,
            "grid_column": null,
            "grid_gap": null,
            "grid_row": null,
            "grid_template_areas": null,
            "grid_template_columns": null,
            "grid_template_rows": null,
            "height": null,
            "justify_content": null,
            "justify_items": null,
            "left": null,
            "margin": null,
            "max_height": null,
            "max_width": null,
            "min_height": null,
            "min_width": null,
            "object_fit": null,
            "object_position": null,
            "order": null,
            "overflow": null,
            "overflow_x": null,
            "overflow_y": null,
            "padding": null,
            "right": null,
            "top": null,
            "visibility": null,
            "width": null
          }
        },
        "82e89739f13d4f61978afbaa527cf6e9": {
          "model_module": "@jupyter-widgets/controls",
          "model_name": "DescriptionStyleModel",
          "model_module_version": "1.5.0",
          "state": {
            "_model_module": "@jupyter-widgets/controls",
            "_model_module_version": "1.5.0",
            "_model_name": "DescriptionStyleModel",
            "_view_count": null,
            "_view_module": "@jupyter-widgets/base",
            "_view_module_version": "1.2.0",
            "_view_name": "StyleView",
            "description_width": ""
          }
        },
        "79c2ed1ad1964409b2c8b4e5304ca767": {
          "model_module": "@jupyter-widgets/base",
          "model_name": "LayoutModel",
          "model_module_version": "1.2.0",
          "state": {
            "_model_module": "@jupyter-widgets/base",
            "_model_module_version": "1.2.0",
            "_model_name": "LayoutModel",
            "_view_count": null,
            "_view_module": "@jupyter-widgets/base",
            "_view_module_version": "1.2.0",
            "_view_name": "LayoutView",
            "align_content": null,
            "align_items": null,
            "align_self": null,
            "border": null,
            "bottom": null,
            "display": null,
            "flex": null,
            "flex_flow": null,
            "grid_area": null,
            "grid_auto_columns": null,
            "grid_auto_flow": null,
            "grid_auto_rows": null,
            "grid_column": null,
            "grid_gap": null,
            "grid_row": null,
            "grid_template_areas": null,
            "grid_template_columns": null,
            "grid_template_rows": null,
            "height": null,
            "justify_content": null,
            "justify_items": null,
            "left": null,
            "margin": null,
            "max_height": null,
            "max_width": null,
            "min_height": null,
            "min_width": null,
            "object_fit": null,
            "object_position": null,
            "order": null,
            "overflow": null,
            "overflow_x": null,
            "overflow_y": null,
            "padding": null,
            "right": null,
            "top": null,
            "visibility": null,
            "width": null
          }
        },
        "fe2e63e470c9456eb87a7c223fccc2e7": {
          "model_module": "@jupyter-widgets/controls",
          "model_name": "ProgressStyleModel",
          "model_module_version": "1.5.0",
          "state": {
            "_model_module": "@jupyter-widgets/controls",
            "_model_module_version": "1.5.0",
            "_model_name": "ProgressStyleModel",
            "_view_count": null,
            "_view_module": "@jupyter-widgets/base",
            "_view_module_version": "1.2.0",
            "_view_name": "StyleView",
            "bar_color": null,
            "description_width": ""
          }
        },
        "183dca253ba040f59ed29ea8eef1d052": {
          "model_module": "@jupyter-widgets/base",
          "model_name": "LayoutModel",
          "model_module_version": "1.2.0",
          "state": {
            "_model_module": "@jupyter-widgets/base",
            "_model_module_version": "1.2.0",
            "_model_name": "LayoutModel",
            "_view_count": null,
            "_view_module": "@jupyter-widgets/base",
            "_view_module_version": "1.2.0",
            "_view_name": "LayoutView",
            "align_content": null,
            "align_items": null,
            "align_self": null,
            "border": null,
            "bottom": null,
            "display": null,
            "flex": null,
            "flex_flow": null,
            "grid_area": null,
            "grid_auto_columns": null,
            "grid_auto_flow": null,
            "grid_auto_rows": null,
            "grid_column": null,
            "grid_gap": null,
            "grid_row": null,
            "grid_template_areas": null,
            "grid_template_columns": null,
            "grid_template_rows": null,
            "height": null,
            "justify_content": null,
            "justify_items": null,
            "left": null,
            "margin": null,
            "max_height": null,
            "max_width": null,
            "min_height": null,
            "min_width": null,
            "object_fit": null,
            "object_position": null,
            "order": null,
            "overflow": null,
            "overflow_x": null,
            "overflow_y": null,
            "padding": null,
            "right": null,
            "top": null,
            "visibility": null,
            "width": null
          }
        },
        "f4f8b83f1ef94e4c936c649e697194aa": {
          "model_module": "@jupyter-widgets/controls",
          "model_name": "DescriptionStyleModel",
          "model_module_version": "1.5.0",
          "state": {
            "_model_module": "@jupyter-widgets/controls",
            "_model_module_version": "1.5.0",
            "_model_name": "DescriptionStyleModel",
            "_view_count": null,
            "_view_module": "@jupyter-widgets/base",
            "_view_module_version": "1.2.0",
            "_view_name": "StyleView",
            "description_width": ""
          }
        }
      }
    }
  },
  "cells": [
    {
      "cell_type": "markdown",
      "source": [
        "#**Final Pipleline**"
      ],
      "metadata": {
        "id": "tqYxxCZNd_un"
      }
    },
    {
      "cell_type": "markdown",
      "source": [
        "##Package Installation"
      ],
      "metadata": {
        "id": "ClT1g7aBeHDk"
      }
    },
    {
      "cell_type": "code",
      "execution_count": 1,
      "metadata": {
        "id": "_kFaAd4-d6uO",
        "outputId": "9fbbc3e3-5f79-484d-8beb-ecda43d556a1",
        "colab": {
          "base_uri": "https://localhost:8080/"
        }
      },
      "outputs": [
        {
          "output_type": "stream",
          "name": "stdout",
          "text": [
            "Requirement already satisfied: lxml in /usr/local/lib/python3.10/dist-packages (4.9.4)\n",
            "\u001b[2K     \u001b[90m━━━━━━━━━━━━━━━━━━━━━━━━━━━━━━━━━━━━━━━━\u001b[0m \u001b[32m15.4/15.4 MB\u001b[0m \u001b[31m17.5 MB/s\u001b[0m eta \u001b[36m0:00:00\u001b[0m\n",
            "\u001b[2K     \u001b[90m━━━━━━━━━━━━━━━━━━━━━━━━━━━━━━━━━━━━━━━━\u001b[0m \u001b[32m2.0/2.0 MB\u001b[0m \u001b[31m29.8 MB/s\u001b[0m eta \u001b[36m0:00:00\u001b[0m\n",
            "\u001b[2K     \u001b[90m━━━━━━━━━━━━━━━━━━━━━━━━━━━━━━━━━━━━━━━━\u001b[0m \u001b[32m75.6/75.6 kB\u001b[0m \u001b[31m617.5 kB/s\u001b[0m eta \u001b[36m0:00:00\u001b[0m\n",
            "\u001b[2K     \u001b[90m━━━━━━━━━━━━━━━━━━━━━━━━━━━━━━━━━━━━━━━━\u001b[0m \u001b[32m130.8/130.8 kB\u001b[0m \u001b[31m9.4 MB/s\u001b[0m eta \u001b[36m0:00:00\u001b[0m\n",
            "\u001b[2K     \u001b[90m━━━━━━━━━━━━━━━━━━━━━━━━━━━━━━━━━━━━━━━━\u001b[0m \u001b[32m328.5/328.5 kB\u001b[0m \u001b[31m27.7 MB/s\u001b[0m eta \u001b[36m0:00:00\u001b[0m\n",
            "\u001b[2K     \u001b[90m━━━━━━━━━━━━━━━━━━━━━━━━━━━━━━━━━━━━━━━━\u001b[0m \u001b[32m1.1/1.1 MB\u001b[0m \u001b[31m23.9 MB/s\u001b[0m eta \u001b[36m0:00:00\u001b[0m\n",
            "\u001b[2K     \u001b[90m━━━━━━━━━━━━━━━━━━━━━━━━━━━━━━━━━━━━━━━━\u001b[0m \u001b[32m290.4/290.4 kB\u001b[0m \u001b[31m27.6 MB/s\u001b[0m eta \u001b[36m0:00:00\u001b[0m\n",
            "\u001b[2K     \u001b[90m━━━━━━━━━━━━━━━━━━━━━━━━━━━━━━━━━━━━━━━━\u001b[0m \u001b[32m77.9/77.9 kB\u001b[0m \u001b[31m9.6 MB/s\u001b[0m eta \u001b[36m0:00:00\u001b[0m\n",
            "\u001b[2K     \u001b[90m━━━━━━━━━━━━━━━━━━━━━━━━━━━━━━━━━━━━━━━━\u001b[0m \u001b[32m58.3/58.3 kB\u001b[0m \u001b[31m5.9 MB/s\u001b[0m eta \u001b[36m0:00:00\u001b[0m\n",
            "\u001b[2K     \u001b[90m━━━━━━━━━━━━━━━━━━━━━━━━━━━━━━━━━━━━━━━━\u001b[0m \u001b[32m49.2/49.2 kB\u001b[0m \u001b[31m6.0 MB/s\u001b[0m eta \u001b[36m0:00:00\u001b[0m\n",
            "\u001b[2K     \u001b[90m━━━━━━━━━━━━━━━━━━━━━━━━━━━━━━━━━━━━━━━━\u001b[0m \u001b[32m227.1/227.1 kB\u001b[0m \u001b[31m4.2 MB/s\u001b[0m eta \u001b[36m0:00:00\u001b[0m\n",
            "\u001b[2K     \u001b[90m━━━━━━━━━━━━━━━━━━━━━━━━━━━━━━━━━━━━━━━━\u001b[0m \u001b[32m853.2/853.2 kB\u001b[0m \u001b[31m8.7 MB/s\u001b[0m eta \u001b[36m0:00:00\u001b[0m\n",
            "\u001b[2K     \u001b[90m━━━━━━━━━━━━━━━━━━━━━━━━━━━━━━━━━━━━━━━━\u001b[0m \u001b[32m21.3/21.3 MB\u001b[0m \u001b[31m54.3 MB/s\u001b[0m eta \u001b[36m0:00:00\u001b[0m\n",
            "\u001b[2K     \u001b[90m━━━━━━━━━━━━━━━━━━━━━━━━━━━━━━━━━━━━━━━━\u001b[0m \u001b[32m251.6/251.6 kB\u001b[0m \u001b[31m5.7 MB/s\u001b[0m eta \u001b[36m0:00:00\u001b[0m\n",
            "\u001b[2K     \u001b[90m━━━━━━━━━━━━━━━━━━━━━━━━━━━━━━━━━━━━━━━━\u001b[0m \u001b[32m314.1/314.1 kB\u001b[0m \u001b[31m9.2 MB/s\u001b[0m eta \u001b[36m0:00:00\u001b[0m\n",
            "\u001b[2K     \u001b[90m━━━━━━━━━━━━━━━━━━━━━━━━━━━━━━━━━━━━━━━━\u001b[0m \u001b[32m23.5/23.5 MB\u001b[0m \u001b[31m55.9 MB/s\u001b[0m eta \u001b[36m0:00:00\u001b[0m\n",
            "\u001b[2K     \u001b[90m━━━━━━━━━━━━━━━━━━━━━━━━━━━━━━━━━━━━━━━━\u001b[0m \u001b[32m547.8/547.8 kB\u001b[0m \u001b[31m46.8 MB/s\u001b[0m eta \u001b[36m0:00:00\u001b[0m\n",
            "\u001b[2K     \u001b[90m━━━━━━━━━━━━━━━━━━━━━━━━━━━━━━━━━━━━━━━━\u001b[0m \u001b[32m13.2/13.2 MB\u001b[0m \u001b[31m87.8 MB/s\u001b[0m eta \u001b[36m0:00:00\u001b[0m\n",
            "\u001b[2K     \u001b[90m━━━━━━━━━━━━━━━━━━━━━━━━━━━━━━━━━━━━━━━━\u001b[0m \u001b[32m40.8/40.8 MB\u001b[0m \u001b[31m12.1 MB/s\u001b[0m eta \u001b[36m0:00:00\u001b[0m\n",
            "\u001b[2K     \u001b[90m━━━━━━━━━━━━━━━━━━━━━━━━━━━━━━━━━━━━━━━━\u001b[0m \u001b[32m116.3/116.3 kB\u001b[0m \u001b[31m15.6 MB/s\u001b[0m eta \u001b[36m0:00:00\u001b[0m\n",
            "\u001b[2K     \u001b[90m━━━━━━━━━━━━━━━━━━━━━━━━━━━━━━━━━━━━━━━━\u001b[0m \u001b[32m64.9/64.9 kB\u001b[0m \u001b[31m9.3 MB/s\u001b[0m eta \u001b[36m0:00:00\u001b[0m\n",
            "\u001b[2K     \u001b[90m━━━━━━━━━━━━━━━━━━━━━━━━━━━━━━━━━━━━━━━━\u001b[0m \u001b[32m194.1/194.1 kB\u001b[0m \u001b[31m22.5 MB/s\u001b[0m eta \u001b[36m0:00:00\u001b[0m\n",
            "\u001b[2K     \u001b[90m━━━━━━━━━━━━━━━━━━━━━━━━━━━━━━━━━━━━━━━━\u001b[0m \u001b[32m134.8/134.8 kB\u001b[0m \u001b[31m20.1 MB/s\u001b[0m eta \u001b[36m0:00:00\u001b[0m\n",
            "\u001b[?25h\u001b[31mERROR: pip's dependency resolver does not currently take into account all the packages that are installed. This behaviour is the source of the following dependency conflicts.\n",
            "cudf-cu12 24.4.1 requires pyarrow<15.0.0a0,>=14.0.1, but you have pyarrow 16.1.0 which is incompatible.\n",
            "google-colab 1.0.0 requires requests==2.31.0, but you have requests 2.32.3 which is incompatible.\n",
            "ibis-framework 8.0.0 requires pyarrow<16,>=2, but you have pyarrow 16.1.0 which is incompatible.\u001b[0m\u001b[31m\n",
            "\u001b[2K     \u001b[90m━━━━━━━━━━━━━━━━━━━━━━━━━━━━━━━━━━━━━━━━\u001b[0m \u001b[32m424.7/424.7 kB\u001b[0m \u001b[31m5.9 MB/s\u001b[0m eta \u001b[36m0:00:00\u001b[0m\n",
            "\u001b[2K     \u001b[90m━━━━━━━━━━━━━━━━━━━━━━━━━━━━━━━━━━━━━━━━\u001b[0m \u001b[32m46.0/46.0 kB\u001b[0m \u001b[31m6.6 MB/s\u001b[0m eta \u001b[36m0:00:00\u001b[0m\n",
            "\u001b[2K     \u001b[90m━━━━━━━━━━━━━━━━━━━━━━━━━━━━━━━━━━━━━━━━\u001b[0m \u001b[32m86.8/86.8 kB\u001b[0m \u001b[31m6.5 MB/s\u001b[0m eta \u001b[36m0:00:00\u001b[0m\n",
            "\u001b[2K     \u001b[90m━━━━━━━━━━━━━━━━━━━━━━━━━━━━━━━━━━━━━━━━\u001b[0m \u001b[32m119.8/119.8 MB\u001b[0m \u001b[31m8.2 MB/s\u001b[0m eta \u001b[36m0:00:00\u001b[0m\n",
            "\u001b[2K     \u001b[90m━━━━━━━━━━━━━━━━━━━━━━━━━━━━━━━━━━━━━━━━\u001b[0m \u001b[32m2.6/2.6 MB\u001b[0m \u001b[31m13.7 MB/s\u001b[0m eta \u001b[36m0:00:00\u001b[0m\n",
            "\u001b[?25h  Preparing metadata (setup.py) ... \u001b[?25l\u001b[?25hdone\n",
            "\u001b[2K     \u001b[90m━━━━━━━━━━━━━━━━━━━━━━━━━━━━━━━━━━━━━━━━\u001b[0m \u001b[32m43.2/43.2 kB\u001b[0m \u001b[31m6.2 MB/s\u001b[0m eta \u001b[36m0:00:00\u001b[0m\n",
            "\u001b[?25h  Building wheel for flash_attn (setup.py) ... \u001b[?25l\u001b[?25hdone\n",
            "\u001b[2K     \u001b[90m━━━━━━━━━━━━━━━━━━━━━━━━━━━━━━━━━━━━━━━━\u001b[0m \u001b[32m2.5/2.5 MB\u001b[0m \u001b[31m13.4 MB/s\u001b[0m eta \u001b[36m0:00:00\u001b[0m\n",
            "\u001b[?25h  Preparing metadata (setup.py) ... \u001b[?25l\u001b[?25hdone\n",
            "\u001b[2K     \u001b[90m━━━━━━━━━━━━━━━━━━━━━━━━━━━━━━━━━━━━━━━━\u001b[0m \u001b[32m779.1/779.1 MB\u001b[0m \u001b[31m1.1 MB/s\u001b[0m eta \u001b[36m0:00:00\u001b[0m\n",
            "\u001b[2K     \u001b[90m━━━━━━━━━━━━━━━━━━━━━━━━━━━━━━━━━━━━━━━━\u001b[0m \u001b[32m309.4/309.4 kB\u001b[0m \u001b[31m32.8 MB/s\u001b[0m eta \u001b[36m0:00:00\u001b[0m\n",
            "\u001b[2K     \u001b[90m━━━━━━━━━━━━━━━━━━━━━━━━━━━━━━━━━━━━━━━━\u001b[0m \u001b[32m168.1/168.1 MB\u001b[0m \u001b[31m7.0 MB/s\u001b[0m eta \u001b[36m0:00:00\u001b[0m\n",
            "\u001b[?25h  Building wheel for flash_attn (setup.py) ... \u001b[?25l\u001b[?25hdone\n",
            "\u001b[31mERROR: pip's dependency resolver does not currently take into account all the packages that are installed. This behaviour is the source of the following dependency conflicts.\n",
            "torchaudio 2.3.0+cu121 requires torch==2.3.0, but you have torch 2.3.1 which is incompatible.\n",
            "torchvision 0.18.0+cu121 requires torch==2.3.0, but you have torch 2.3.1 which is incompatible.\u001b[0m\u001b[31m\n",
            "\u001b[0m"
          ]
        }
      ],
      "source": [
        "#Package Installation\n",
        "!pip install lxml\n",
        "!pip install llama-index -q\n",
        "!pip install llama-index-embeddings-huggingface -q\n",
        "!pip install peft -q\n",
        "!pip install auto-gptq -q\n",
        "!pip install optimum -q\n",
        "!pip install bitsandbytes -q\n",
        "!pip install wheel flash_attn -q\n",
        "!pip install accelerate -q\n",
        "!pip install requests -q\n",
        "!pip install beautifulsoup4 -q\n",
        "!pip install flash_attn==2.5.8 torch==2.3.1 accelerate==0.31.0 transformers==4.41.2 -q"
      ]
    },
    {
      "cell_type": "markdown",
      "source": [
        "##Importing Packages"
      ],
      "metadata": {
        "id": "WPRqaAPUeMxe"
      }
    },
    {
      "cell_type": "code",
      "source": [
        "import requests\n",
        "import torch\n",
        "from bs4 import BeautifulSoup\n",
        "from llama_index.embeddings.huggingface import HuggingFaceEmbedding\n",
        "from llama_index.core import Settings, SimpleDirectoryReader, VectorStoreIndex\n",
        "from llama_index.core.retrievers import VectorIndexRetriever\n",
        "from llama_index.core.query_engine import RetrieverQueryEngine\n",
        "from llama_index.core.postprocessor import SimilarityPostprocessor\n",
        "from transformers import AutoTokenizer, AutoModelForCausalLM,BitsAndBytesConfig, pipeline"
      ],
      "metadata": {
        "id": "YVedacoseQFX"
      },
      "execution_count": 1,
      "outputs": []
    },
    {
      "cell_type": "markdown",
      "source": [
        "##Web Scraping"
      ],
      "metadata": {
        "id": "rIkm96UWeV4C"
      }
    },
    {
      "cell_type": "markdown",
      "source": [
        "CODEFORCES"
      ],
      "metadata": {
        "id": "MPiYKQ6sebS4"
      }
    },
    {
      "cell_type": "code",
      "source": [
        "#Web scraping\n",
        "def scrape(url):\n",
        "  vocab = {\"<p>\":\" \", \"</p>\":\" \", \"$$$\":'', \"\\\\leq\":\" <= \", \"\\\\le\":\" <= \", r'\\xa0':\" \", \"\\\\cdot\":\" x \", \"\\\\ldots\":\"...\",\"\\\\dots\":\"...\",\n",
        "         '</span>':' ' , '<span class=\"tex-font-style-it\">':' ', '<span class=\"tex-font-style-bf\">':' ','<span class=\"tex-font-style-tt\">':' ' ,\n",
        "         '\\\\ne': '≠', r'\\xa0':'', '\\\\oplus':' xor ', '\\\\,':'', '&lt':'<', '&gt':'>', \"^\\\\dagger\":'', '\\\\ge':' >= ', '\\\\operatorname':'',\n",
        "         \"\\'\":''}\n",
        "\n",
        "  r = requests.get(url)\n",
        "\n",
        "  # Parsing the HTML\n",
        "  soup = BeautifulSoup(r.content, 'html.parser')\n",
        "\n",
        "  s = soup.find('div', class_='entry-content')\n",
        "  ques = soup.find('div',{\"class\":\"problem-statement\"}).get_text()\n",
        "  input = soup.find('div',{\"class\":\"input-specification\"}).get_text()\n",
        "  ouput = soup.find('div',{\"class\":\"output-specification\"}).get_text()\n",
        "\n",
        "  ques = ques.split(\"Note\")[0]\n",
        "  ques = \"\".join(map(str, ques))\n",
        "  ques = ques.split(\"standard output\")[1]\n",
        "  ques = \"\".join(map(str, ques))\n",
        "  ques = ques.split(\"ExamplesInput\")[0]\n",
        "  ques = \"\".join(map(str, ques))\n",
        "  ques = ques.split(\"ExampleInput\")[0]\n",
        "\n",
        "  for word in vocab:\n",
        "    lst = []\n",
        "    for i in ques.split(word):\n",
        "      if i!='':\n",
        "        lst.append(i)\n",
        "    # lst\n",
        "    ques = vocab[word].join(map(str, lst))\n",
        "  return ques"
      ],
      "metadata": {
        "id": "038S5SUFeZQp"
      },
      "execution_count": 2,
      "outputs": []
    },
    {
      "cell_type": "markdown",
      "source": [
        "LEETCODE"
      ],
      "metadata": {
        "id": "2LOqmQM_edh9"
      }
    },
    {
      "cell_type": "code",
      "source": [
        "def scrape_leetcode(problem_name):\n",
        "  data = {\"operationName\":\"questionData\",\"variables\":{\"titleSlug\":f\"{problem_name}\"},\"query\":\"query questionData($titleSlug: String!) {\\n  question(titleSlug: $titleSlug) {\\n    questionId\\n    questionFrontendId\\n    boundTopicId\\n    title\\n    titleSlug\\n    content\\n    translatedTitle\\n    translatedContent\\n    isPaidOnly\\n    difficulty\\n    likes\\n    dislikes\\n    isLiked\\n    similarQuestions\\n    contributors {\\n      username\\n      profileUrl\\n      avatarUrl\\n      __typename\\n    }\\n    langToValidPlayground\\n    topicTags {\\n      name\\n      slug\\n      translatedName\\n      __typename\\n    }\\n    companyTagStats\\n    codeSnippets {\\n      lang\\n      langSlug\\n      code\\n      __typename\\n    }\\n    stats\\n    hints\\n    solution {\\n      id\\n      canSeeDetail\\n      __typename\\n    }\\n    status\\n    sampleTestCase\\n    metaData\\n    judgerAvailable\\n    judgeType\\n    mysqlSchemas\\n    enableRunCode\\n    enableTestMode\\n    envInfo\\n    libraryUrl\\n    __typename\\n  }\\n}\\n\"}\n",
        "\n",
        "  r = requests.post('https://leetcode.com/graphql', json = data).json()\n",
        "  soup = bs(r['data']['question']['content'], 'lxml')\n",
        "  title = r['data']['question']['title']\n",
        "  question =  soup.get_text().replace('\\n',' ')\n",
        "\n",
        "  question_p1 = question.split('Example')\n",
        "  question_p2 = question.split('Constraint')\n",
        "  ques = [question_p1[0], 'Constraint' + question_p2[1]]\n",
        "  ques = ' '.join(map(str, ques))\n",
        "  ques = ques.split('\\xa0')\n",
        "  ques = ''.join(map(str, ques))\n",
        "  return ques"
      ],
      "metadata": {
        "id": "H7cwLKqIeexe"
      },
      "execution_count": 3,
      "outputs": []
    },
    {
      "cell_type": "markdown",
      "source": [
        "##Scraping the question from user intput"
      ],
      "metadata": {
        "id": "l5FqXqNUekFJ"
      }
    },
    {
      "cell_type": "code",
      "source": [
        "Platform = input(\"Enter L for LeetCode and C for Codeforces)\")\n",
        "if Platform == \"C\":\n",
        "  problem_number = input(\"Enter Contest Id:\")\n",
        "  part = input('Enter Question No.:')\n",
        "\n",
        "  url = r\"https://codeforces.com/problemset/problem/\" + f\"{problem_number}\" + r\"/\" + f\"{part}\"\n",
        "\n",
        "  ques = scrape(url)\n",
        "elif Platform == \"L\":\n",
        "  problem_name = input(\"Enter Problem Name:\")\n",
        "  ques = scrape_leetcode(problem_name)\n",
        "\n",
        "else:\n",
        "  print(\"Invalid Platform\")"
      ],
      "metadata": {
        "id": "f1mC_Nf_e3Sm",
        "outputId": "7f983f89-9058-46ae-f76f-9bc7b52a31d2",
        "colab": {
          "base_uri": "https://localhost:8080/",
          "height": 384
        }
      },
      "execution_count": 4,
      "outputs": [
        {
          "name": "stdout",
          "output_type": "stream",
          "text": [
            "Enter L for LeetCode and C for Codeforces)C\n",
            "Enter Contest Id:1709\n",
            "Enter Question No.:B\n"
          ]
        },
        {
          "output_type": "error",
          "ename": "AttributeError",
          "evalue": "'NoneType' object has no attribute 'get_text'",
          "traceback": [
            "\u001b[0;31m---------------------------------------------------------------------------\u001b[0m",
            "\u001b[0;31mAttributeError\u001b[0m                            Traceback (most recent call last)",
            "\u001b[0;32m<ipython-input-4-9e2cb7fde651>\u001b[0m in \u001b[0;36m<cell line: 2>\u001b[0;34m()\u001b[0m\n\u001b[1;32m      6\u001b[0m   \u001b[0murl\u001b[0m \u001b[0;34m=\u001b[0m \u001b[0;34mr\"https://codeforces.com/problemset/problem/\"\u001b[0m \u001b[0;34m+\u001b[0m \u001b[0;34mf\"{problem_number}\"\u001b[0m \u001b[0;34m+\u001b[0m \u001b[0;34mr\"/\"\u001b[0m \u001b[0;34m+\u001b[0m \u001b[0;34mf\"{part}\"\u001b[0m\u001b[0;34m\u001b[0m\u001b[0;34m\u001b[0m\u001b[0m\n\u001b[1;32m      7\u001b[0m \u001b[0;34m\u001b[0m\u001b[0m\n\u001b[0;32m----> 8\u001b[0;31m   \u001b[0mques\u001b[0m \u001b[0;34m=\u001b[0m \u001b[0mscrape\u001b[0m\u001b[0;34m(\u001b[0m\u001b[0murl\u001b[0m\u001b[0;34m)\u001b[0m\u001b[0;34m\u001b[0m\u001b[0;34m\u001b[0m\u001b[0m\n\u001b[0m\u001b[1;32m      9\u001b[0m \u001b[0;32melif\u001b[0m \u001b[0mPlatform\u001b[0m \u001b[0;34m==\u001b[0m \u001b[0;34m\"L\"\u001b[0m\u001b[0;34m:\u001b[0m\u001b[0;34m\u001b[0m\u001b[0;34m\u001b[0m\u001b[0m\n\u001b[1;32m     10\u001b[0m   \u001b[0mproblem_name\u001b[0m \u001b[0;34m=\u001b[0m \u001b[0minput\u001b[0m\u001b[0;34m(\u001b[0m\u001b[0;34m\"Enter Problem Name:\"\u001b[0m\u001b[0;34m)\u001b[0m\u001b[0;34m\u001b[0m\u001b[0;34m\u001b[0m\u001b[0m\n",
            "\u001b[0;32m<ipython-input-2-ea147aaf8d06>\u001b[0m in \u001b[0;36mscrape\u001b[0;34m(url)\u001b[0m\n\u001b[1;32m     12\u001b[0m \u001b[0;34m\u001b[0m\u001b[0m\n\u001b[1;32m     13\u001b[0m   \u001b[0ms\u001b[0m \u001b[0;34m=\u001b[0m \u001b[0msoup\u001b[0m\u001b[0;34m.\u001b[0m\u001b[0mfind\u001b[0m\u001b[0;34m(\u001b[0m\u001b[0;34m'div'\u001b[0m\u001b[0;34m,\u001b[0m \u001b[0mclass_\u001b[0m\u001b[0;34m=\u001b[0m\u001b[0;34m'entry-content'\u001b[0m\u001b[0;34m)\u001b[0m\u001b[0;34m\u001b[0m\u001b[0;34m\u001b[0m\u001b[0m\n\u001b[0;32m---> 14\u001b[0;31m   \u001b[0mques\u001b[0m \u001b[0;34m=\u001b[0m \u001b[0msoup\u001b[0m\u001b[0;34m.\u001b[0m\u001b[0mfind\u001b[0m\u001b[0;34m(\u001b[0m\u001b[0;34m'div'\u001b[0m\u001b[0;34m,\u001b[0m\u001b[0;34m{\u001b[0m\u001b[0;34m\"class\"\u001b[0m\u001b[0;34m:\u001b[0m\u001b[0;34m\"problem-statement\"\u001b[0m\u001b[0;34m}\u001b[0m\u001b[0;34m)\u001b[0m\u001b[0;34m.\u001b[0m\u001b[0mget_text\u001b[0m\u001b[0;34m(\u001b[0m\u001b[0;34m)\u001b[0m\u001b[0;34m\u001b[0m\u001b[0;34m\u001b[0m\u001b[0m\n\u001b[0m\u001b[1;32m     15\u001b[0m   \u001b[0minput\u001b[0m \u001b[0;34m=\u001b[0m \u001b[0msoup\u001b[0m\u001b[0;34m.\u001b[0m\u001b[0mfind\u001b[0m\u001b[0;34m(\u001b[0m\u001b[0;34m'div'\u001b[0m\u001b[0;34m,\u001b[0m\u001b[0;34m{\u001b[0m\u001b[0;34m\"class\"\u001b[0m\u001b[0;34m:\u001b[0m\u001b[0;34m\"input-specification\"\u001b[0m\u001b[0;34m}\u001b[0m\u001b[0;34m)\u001b[0m\u001b[0;34m.\u001b[0m\u001b[0mget_text\u001b[0m\u001b[0;34m(\u001b[0m\u001b[0;34m)\u001b[0m\u001b[0;34m\u001b[0m\u001b[0;34m\u001b[0m\u001b[0m\n\u001b[1;32m     16\u001b[0m   \u001b[0mouput\u001b[0m \u001b[0;34m=\u001b[0m \u001b[0msoup\u001b[0m\u001b[0;34m.\u001b[0m\u001b[0mfind\u001b[0m\u001b[0;34m(\u001b[0m\u001b[0;34m'div'\u001b[0m\u001b[0;34m,\u001b[0m\u001b[0;34m{\u001b[0m\u001b[0;34m\"class\"\u001b[0m\u001b[0;34m:\u001b[0m\u001b[0;34m\"output-specification\"\u001b[0m\u001b[0;34m}\u001b[0m\u001b[0;34m)\u001b[0m\u001b[0;34m.\u001b[0m\u001b[0mget_text\u001b[0m\u001b[0;34m(\u001b[0m\u001b[0;34m)\u001b[0m\u001b[0;34m\u001b[0m\u001b[0;34m\u001b[0m\u001b[0m\n",
            "\u001b[0;31mAttributeError\u001b[0m: 'NoneType' object has no attribute 'get_text'"
          ]
        }
      ]
    },
    {
      "cell_type": "code",
      "source": [
        "ques = \"Write an algorithm to make arryay of size n sorted in ascedning order\""
      ],
      "metadata": {
        "id": "m859WegAoUtR"
      },
      "execution_count": 5,
      "outputs": []
    },
    {
      "cell_type": "markdown",
      "source": [
        "##Making a Good Prompt"
      ],
      "metadata": {
        "id": "OYMh0pioe5A-"
      }
    },
    {
      "cell_type": "markdown",
      "source": [
        "###LLM help LLM"
      ],
      "metadata": {
        "id": "hZuR6OoFgP8I"
      }
    },
    {
      "cell_type": "code",
      "source": [
        "torch.random.manual_seed(0)\n",
        "config = BitsAndBytesConfig(\n",
        "    load_in_4bit=True,\n",
        "    bnb_4bit_quant_type=\"nf4\",\n",
        "    bnb_4bit_use_double_quant=True,\n",
        "    bnb_4bit_compute_dtype=torch.bfloat16,\n",
        ")\n",
        "model = AutoModelForCausalLM.from_pretrained(\n",
        "    \"microsoft/Phi-3-mini-128k-instruct\",\n",
        "    device_map=\"cuda\",\n",
        "    torch_dtype=\"auto\",\n",
        "    quantization_config=config,\n",
        "    trust_remote_code=True,\n",
        ")\n",
        "\n",
        "tokenizer = AutoTokenizer.from_pretrained(\"microsoft/Phi-3-mini-128k-instruct\")\n",
        "\n",
        "messages = [\n",
        "    {\"role\": \"system\", \"content\": \"You are a helpful AI assistant.\"},\n",
        "    {\"role\": \"user\", \"content\": '''Can you provide an elaborate explanation of the following programming based question? One hot summer day Pete and his friend Billy decided to buy a watermelon. They chose the biggest and the ripest one, in their opinion. After that the watermelon was weighed, and the scales showed w kilos. They rushed home, dying of thirst, and decided to divide the berry, however they faced a hard problem.\n",
        "Pete and Billy are great fans of even numbers, that's why they want to divide the watermelon in such a way that each of the two parts weighs even number of kilos, at the same time it is not obligatory that the parts are equal. The boys are extremely tired and want to start their meal as soon as possible, that's why you should help them and find out, if they can divide the watermelon in the way they want. For sure, each of them should get a part of positive weight.'''},\n",
        "    {\"role\": \"assistant\", \"content\": '''Certainly! Let’s break down the problem and provide an elaborate explanation:\n",
        "\n",
        "Problem Statement\n",
        "Pete and Billy have a watermelon that weighs w kilos. They want to divide it into two parts such that:\n",
        "\n",
        "Each part weighs an even number of kilos.\n",
        "The parts do not necessarily have to be equal in weight.\n",
        "Both Pete and Billy should receive a part with a positive weight.\n",
        "The goal is to determine whether it’s possible to divide the watermelon according to these conditions.\n",
        "\n",
        "Approach\n",
        "To solve this problem, we need to consider a few observations:\n",
        "\n",
        "If the total weight of the watermelon (w) is odd, it cannot be divided into two even parts. In this case, the answer is “NO.”\n",
        "If the total weight of the watermelon (w) is even, we can always divide it into two equal parts (each with weight w/2), which satisfies the conditions.\n",
        "Detailed Explanation\n",
        "Odd Total Weight (w is odd):\n",
        "If w is odd, it cannot be divided into two even parts.\n",
        "An odd number cannot be expressed as the sum of two even numbers.\n",
        "Therefore, the answer is “NO.”\n",
        "Even Total Weight (w is even):\n",
        "If w is even, we can divide it into two equal parts, each with weight w/2.\n",
        "Since w/2 is always even, both Pete and Billy will receive even-weighted parts.\n",
        "The answer is “YES.”\n",
        "Summary\n",
        "If the total weight of the watermelon is odd, it cannot be divided as desired.\n",
        "If the total weight of the watermelon is even, it can always be divided into two even-weighted parts.\n",
        "Example\n",
        "Suppose the watermelon weighs 10 kilos (w = 10):\n",
        "\n",
        "Pete and Billy can each receive a 5-kilo part, which satisfies the conditions.\n",
        "The answer is “YES.”\n",
        "Remember that this problem is a simple observation-based solution. No complex calculations or algorithms are needed. We just need to check whether the total weight is even or odd. '''},\n",
        "    {\"role\": \"user\", \"content\": f'''please elaborate the following too : {ques}'''},\n",
        "]\n",
        "\n",
        "pipe = pipeline(\n",
        "    \"text-generation\",\n",
        "    model=model,\n",
        "    tokenizer=tokenizer,\n",
        ")\n",
        "\n",
        "generation_args = {\n",
        "    \"max_new_tokens\": 1000,\n",
        "    \"return_full_text\": False,\n",
        "    \"temperature\": 0.0,\n",
        "    \"do_sample\": False,\n",
        "}\n",
        "\n",
        "output = pipe(messages, **generation_args)\n",
        "print(output[0]['generated_text'])\n"
      ],
      "metadata": {
        "id": "K7v5sk2PfG6n",
        "outputId": "def91ab3-9ffd-444e-fcaa-e7f6b6e34c07",
        "colab": {
          "base_uri": "https://localhost:8080/",
          "height": 1000,
          "referenced_widgets": [
            "1ec4ed55c5124842b34ce61e65059ad4",
            "904ef60b412a4ad0a5373466e40eaa8d",
            "182cd10b37994e0dbfae8c7df25ff564",
            "15a6b2e8024c4614b4a345707e3657de",
            "88565ef0342e4f6b99be1a38c48ff83f",
            "fb57f5c737804c67bbcaa1c716131b9f",
            "4fcdf222c44a478f9679522161e280e8",
            "2adf6e6f2865497f934862e47c346967",
            "cc266240d3784f7394f6274d8954101d",
            "3e84e6021f894bdd93b6a181619d0ca3",
            "02ef58c3884d4f0bb9350ef06a5ff85b"
          ]
        }
      },
      "execution_count": 6,
      "outputs": [
        {
          "output_type": "stream",
          "name": "stderr",
          "text": [
            "/usr/local/lib/python3.10/dist-packages/huggingface_hub/utils/_token.py:89: UserWarning: \n",
            "The secret `HF_TOKEN` does not exist in your Colab secrets.\n",
            "To authenticate with the Hugging Face Hub, create a token in your settings tab (https://huggingface.co/settings/tokens), set it as secret in your Google Colab and restart your session.\n",
            "You will be able to reuse this secret in all of your notebooks.\n",
            "Please note that authentication is recommended but still optional to access public models or datasets.\n",
            "  warnings.warn(\n"
          ]
        },
        {
          "output_type": "display_data",
          "data": {
            "text/plain": [
              "Loading checkpoint shards:   0%|          | 0/2 [00:00<?, ?it/s]"
            ],
            "application/vnd.jupyter.widget-view+json": {
              "version_major": 2,
              "version_minor": 0,
              "model_id": "1ec4ed55c5124842b34ce61e65059ad4"
            }
          },
          "metadata": {}
        },
        {
          "output_type": "stream",
          "name": "stderr",
          "text": [
            "Special tokens have been added in the vocabulary, make sure the associated word embeddings are fine-tuned or trained.\n",
            "/usr/local/lib/python3.10/dist-packages/transformers/generation/configuration_utils.py:515: UserWarning: `do_sample` is set to `False`. However, `temperature` is set to `0.0` -- this flag is only used in sample-based generation modes. You should set `do_sample=True` or unset `temperature`.\n",
            "  warnings.warn(\n",
            "WARNING:transformers_modules.microsoft.Phi-3-mini-128k-instruct.d548c233192db00165d842bf8edff054bb3212f8.modeling_phi3:You are not running the flash-attention implementation, expect numerical differences.\n"
          ]
        },
        {
          "output_type": "stream",
          "name": "stdout",
          "text": [
            " Certainly! Let's break down the problem and provide an elaborate explanation:\n",
            "\n",
            "Problem Statement\n",
            "You are given an unsorted array of size n. The goal is to write an algorithm that sorts the array in ascending order.\n",
            "\n",
            "Approach\n",
            "To solve this problem, we can use a sorting algorithm. There are various sorting algorithms available, such as Bubble Sort, Selection Sort, Insertion Sort, Merge Sort, Quick Sort, and Heap Sort. For this explanation, we will use the Merge Sort algorithm, which is a divide-and-conquer algorithm that has a time complexity of O(n log n).\n",
            "\n",
            "Detailed Explanation\n",
            "Merge Sort Algorithm:\n",
            "\n",
            "1. Divide the unsorted array into two halves (left and right).\n",
            "2. Recursively sort each half using the Merge Sort algorithm.\n",
            "3. Merge the two sorted halves into a single sorted array.\n",
            "\n",
            "Here's the step-by-step process of the Merge Sort algorithm:\n",
            "\n",
            "1. Divide the unsorted array into two halves (left and right).\n",
            "\n",
            "2. Recursively sort each half using the Merge Sort algorithm.\n",
            "\n",
            "   a. If the size of the array is 1 or 0, it is already sorted. Return the array.\n",
            "\n",
            "   b. Divide the array into two halves (left and right).\n",
            "\n",
            "   c. Recursively sort the left half using the Merge Sort algorithm.\n",
            "\n",
            "   d. Recursively sort the right half using the Merge Sort algorithm.\n",
            "\n",
            "3. Merge the two sorted halves into a single sorted array.\n",
            "\n",
            "   a. Create an empty array (result) to store the sorted elements.\n",
            "\n",
            "   b. Initialize two pointers (i and j) at the start of the left and right halves, respectively.\n",
            "\n",
            "   c. Compare the elements at the current pointers (i and j).\n",
            "\n",
            "   d. If the element at the left pointer (i) is smaller or equal to the element at the right pointer (j), append it to the result array and increment the left pointer (i).\n",
            "\n",
            "   e. If the element at the right pointer (j) is smaller than the element at the left pointer (i), append it to the result array and increment the right pointer (j).\n",
            "\n",
            "   f. Repeat steps c-e until one of the pointers reaches the end of its respective half.\n",
            "\n",
            "   g. Append the remaining elements from the other half to the result array.\n",
            "\n",
            "   h. Return the result array.\n",
            "\n",
            "Example\n",
            "Suppose we have an unsorted array of size n:\n",
            "\n",
            "[5, 2, 9, 1, 7, 3]\n",
            "\n",
            "Using the Merge Sort algorithm, we can sort the array in ascending order as follows:\n",
            "\n",
            "1. Divide the array into two halves:\n",
            "\n",
            "   left = [5, 2, 9]\n",
            "\n",
            "   right = [1, 7, 3]\n",
            "\n",
            "2. Recursively sort each half:\n",
            "\n",
            "   left = [2, 5, 9]\n",
            "\n",
            "   right = [1, 3, 7]\n",
            "\n",
            "3. Merge the two sorted halves:\n",
            "\n",
            "   result = [1, 2, 3, 5, 7, 9]\n",
            "\n",
            "The final sorted array is [1, 2, 3, 5, 7, 9].\n",
            "\n",
            "Summary\n",
            "The Merge Sort algorithm is a divide-and-conquer algorithm that sorts an array in ascending order with a time complexity of O(n log n). It works by recursively dividing the array into two halves, sorting each half, and merging the sorted halves into a single sorted array.\n",
            "\n",
            "Remember that there are other sorting algorithms available, such as Bubble Sort, Selection Sort, Insertion Sort, Quick Sort, and Heap Sort. Each algorithm has its own advantages and disadvantages in terms of time and space complexity, stability, and ease of implementation. Choose the algorithm that best suits your needs and preferences.\n"
          ]
        }
      ]
    },
    {
      "cell_type": "code",
      "source": [
        "context = output[0]['generated_text']"
      ],
      "metadata": {
        "id": "rfCvC_AQfNu3"
      },
      "execution_count": 7,
      "outputs": []
    },
    {
      "cell_type": "code",
      "source": [
        "torch.cuda.empty_cache()"
      ],
      "metadata": {
        "id": "oQipL_m9o9v5"
      },
      "execution_count": 8,
      "outputs": []
    },
    {
      "cell_type": "code",
      "source": [
        "prompt_template_w_context = lambda context, comment: f\"\"\"You always output C++ code for the problem asked to you\n",
        "\n",
        "{context}\n",
        "Please give code for the following question in C++ also give the explanation for your answer. Use the context above if it is helpful.\n",
        "\n",
        "{ques}\n",
        "\n",
        "\"\"\"\n",
        "\n",
        "prompt = prompt_template_w_context(context, ques)\n"
      ],
      "metadata": {
        "id": "9KjPUvPmfhu0"
      },
      "execution_count": 9,
      "outputs": []
    },
    {
      "cell_type": "markdown",
      "source": [
        "##Loading Model"
      ],
      "metadata": {
        "id": "O5xv1_O8f651"
      }
    },
    {
      "cell_type": "code",
      "source": [
        "config = BitsAndBytesConfig(\n",
        "    load_in_4bit=True,\n",
        "    bnb_4bit_quant_type=\"nf4\",\n",
        "    bnb_4bit_use_double_quant=True,\n",
        "    bnb_4bit_compute_dtype=torch.bfloat16,\n",
        ")"
      ],
      "metadata": {
        "id": "wL0xQtF5fyYs"
      },
      "execution_count": 10,
      "outputs": []
    },
    {
      "cell_type": "code",
      "source": [
        "tokenizer = AutoTokenizer.from_pretrained(\"deepseek-ai/DeepSeek-Coder-V2-Lite-Base\", trust_remote_code=True)\n",
        "model = AutoModelForCausalLM.from_pretrained(\"deepseek-ai/DeepSeek-Coder-V2-Lite-Base\", quantization_config=config, trust_remote_code=True,torch_dtype=torch.bfloat16)\n",
        "input_text = \"#write a quick sort algorithm\"\n",
        "inputs = tokenizer(input_text, return_tensors=\"pt\")\n",
        "outputs = model.generate(**inputs, max_length=1000)\n",
        "print(tokenizer.decode(outputs[0], skip_special_tokens=True))\n",
        "model = torch.compile(model, mode=\"reduce-overhead\", fullgraph=True)"
      ],
      "metadata": {
        "id": "nQ5YpMkAgBDq",
        "outputId": "ea808da6-2409-486f-e2bd-330739fe4836",
        "colab": {
          "base_uri": "https://localhost:8080/",
          "height": 413,
          "referenced_widgets": [
            "e2808f77b3994ce990f3d4395be75402",
            "3f08ed565aa542859594767a7a3ca862",
            "7da376f5a1754b97861aaf8b91349d56",
            "a1495d80314f4fdc8cc94ea68ecf083e",
            "1ffec2b1ba104bf183b810ef7488eaed",
            "b25830f1ed7f4bdcae80b1f2eb42e74a",
            "ea609bba647c45cdbe76a260b8e43ebb",
            "2474b7a6656e492bbfcb1984ebac3f25",
            "48b9c2753d5f41e8b57ad9913ccc3d4c",
            "8d5ff351304d4a06965f45700e9c4635",
            "11b2ce87692244d4b7a2079edc70d07f",
            "34f8ebfb90904cb8a90385558492411c",
            "f69620ad36c1463cabc9894c908a100e",
            "db4014583ca547718801be5da68b72a8",
            "083b2bffc0f04ffd86743790e7bd30d2",
            "0efd52c1c92f49ac915478a20357fb03",
            "c8fddd485f56404397d2afaed82f7b94",
            "82e89739f13d4f61978afbaa527cf6e9",
            "79c2ed1ad1964409b2c8b4e5304ca767",
            "fe2e63e470c9456eb87a7c223fccc2e7",
            "183dca253ba040f59ed29ea8eef1d052",
            "f4f8b83f1ef94e4c936c649e697194aa"
          ]
        }
      },
      "execution_count": 11,
      "outputs": [
        {
          "output_type": "stream",
          "name": "stderr",
          "text": [
            "Special tokens have been added in the vocabulary, make sure the associated word embeddings are fine-tuned or trained.\n",
            "`low_cpu_mem_usage` was None, now set to True since model is quantized.\n"
          ]
        },
        {
          "output_type": "display_data",
          "data": {
            "text/plain": [
              "Loading checkpoint shards:   0%|          | 0/4 [00:00<?, ?it/s]"
            ],
            "application/vnd.jupyter.widget-view+json": {
              "version_major": 2,
              "version_minor": 0,
              "model_id": "e2808f77b3994ce990f3d4395be75402"
            }
          },
          "metadata": {}
        },
        {
          "output_type": "display_data",
          "data": {
            "text/plain": [
              "generation_config.json:   0%|          | 0.00/181 [00:00<?, ?B/s]"
            ],
            "application/vnd.jupyter.widget-view+json": {
              "version_major": 2,
              "version_minor": 0,
              "model_id": "34f8ebfb90904cb8a90385558492411c"
            }
          },
          "metadata": {}
        },
        {
          "output_type": "stream",
          "name": "stderr",
          "text": [
            "Setting `pad_token_id` to `eos_token_id`:100001 for open-end generation.\n",
            "/usr/local/lib/python3.10/dist-packages/transformers/generation/utils.py:1659: UserWarning: You are calling .generate() with the `input_ids` being on a device type different than your model's device. `input_ids` is on cpu, whereas the model is on cuda. You may experience unexpected behaviors or slower generation. Please make sure that you have put `input_ids` to the correct device by calling for example input_ids = input_ids.to('cuda') before running `.generate()`.\n",
            "  warnings.warn(\n"
          ]
        },
        {
          "output_type": "stream",
          "name": "stdout",
          "text": [
            "#write a quick sort algorithm\n",
            "\n",
            "def quick_sort(arr):\n",
            "    if len(arr) <= 1:\n",
            "        return arr\n",
            "    else:\n",
            "        pivot = arr[0]\n",
            "        less = [i for i in arr[1:] if i <= pivot]\n",
            "        greater = [i for i in arr[1:] if i > pivot]\n",
            "        return quick_sort(less) + [pivot] + quick_sort(greater)\n",
            "\n",
            "print(quick_sort([3, 6, 8, 10, 1, 2, 1]))\n",
            "\n"
          ]
        }
      ]
    },
    {
      "cell_type": "markdown",
      "source": [
        "##Taking Inference"
      ],
      "metadata": {
        "id": "IXFSpet7f-fP"
      }
    },
    {
      "cell_type": "code",
      "source": [
        "inputs = tokenizer(prompt, return_tensors=\"pt\")\n",
        "outputs = model.generate(**inputs, max_length=1500)\n",
        "print(tokenizer.decode(outputs[0], skip_special_tokens=True))"
      ],
      "metadata": {
        "id": "Jn9eu8WdgDRS",
        "outputId": "bdd53c94-a298-48b9-f8dd-f7f8436fc6a0",
        "colab": {
          "base_uri": "https://localhost:8080/"
        }
      },
      "execution_count": 13,
      "outputs": [
        {
          "output_type": "stream",
          "name": "stderr",
          "text": [
            "Setting `pad_token_id` to `eos_token_id`:100001 for open-end generation.\n"
          ]
        },
        {
          "output_type": "stream",
          "name": "stdout",
          "text": [
            "You always output C++ code for the problem asked to you\n",
            "\n",
            " Certainly! Let's break down the problem and provide an elaborate explanation:\n",
            "\n",
            "Problem Statement\n",
            "You are given an unsorted array of size n. The goal is to write an algorithm that sorts the array in ascending order.\n",
            "\n",
            "Approach\n",
            "To solve this problem, we can use a sorting algorithm. There are various sorting algorithms available, such as Bubble Sort, Selection Sort, Insertion Sort, Merge Sort, Quick Sort, and Heap Sort. For this explanation, we will use the Merge Sort algorithm, which is a divide-and-conquer algorithm that has a time complexity of O(n log n).\n",
            "\n",
            "Detailed Explanation\n",
            "Merge Sort Algorithm:\n",
            "\n",
            "1. Divide the unsorted array into two halves (left and right).\n",
            "2. Recursively sort each half using the Merge Sort algorithm.\n",
            "3. Merge the two sorted halves into a single sorted array.\n",
            "\n",
            "Here's the step-by-step process of the Merge Sort algorithm:\n",
            "\n",
            "1. Divide the unsorted array into two halves (left and right).\n",
            "\n",
            "2. Recursively sort each half using the Merge Sort algorithm.\n",
            "\n",
            "   a. If the size of the array is 1 or 0, it is already sorted. Return the array.\n",
            "\n",
            "   b. Divide the array into two halves (left and right).\n",
            "\n",
            "   c. Recursively sort the left half using the Merge Sort algorithm.\n",
            "\n",
            "   d. Recursively sort the right half using the Merge Sort algorithm.\n",
            "\n",
            "3. Merge the two sorted halves into a single sorted array.\n",
            "\n",
            "   a. Create an empty array (result) to store the sorted elements.\n",
            "\n",
            "   b. Initialize two pointers (i and j) at the start of the left and right halves, respectively.\n",
            "\n",
            "   c. Compare the elements at the current pointers (i and j).\n",
            "\n",
            "   d. If the element at the left pointer (i) is smaller or equal to the element at the right pointer (j), append it to the result array and increment the left pointer (i).\n",
            "\n",
            "   e. If the element at the right pointer (j) is smaller than the element at the left pointer (i), append it to the result array and increment the right pointer (j).\n",
            "\n",
            "   f. Repeat steps c-e until one of the pointers reaches the end of its respective half.\n",
            "\n",
            "   g. Append the remaining elements from the other half to the result array.\n",
            "\n",
            "   h. Return the result array.\n",
            "\n",
            "Example\n",
            "Suppose we have an unsorted array of size n:\n",
            "\n",
            "[5, 2, 9, 1, 7, 3]\n",
            "\n",
            "Using the Merge Sort algorithm, we can sort the array in ascending order as follows:\n",
            "\n",
            "1. Divide the array into two halves:\n",
            "\n",
            "   left = [5, 2, 9]\n",
            "\n",
            "   right = [1, 7, 3]\n",
            "\n",
            "2. Recursively sort each half:\n",
            "\n",
            "   left = [2, 5, 9]\n",
            "\n",
            "   right = [1, 3, 7]\n",
            "\n",
            "3. Merge the two sorted halves:\n",
            "\n",
            "   result = [1, 2, 3, 5, 7, 9]\n",
            "\n",
            "The final sorted array is [1, 2, 3, 5, 7, 9].\n",
            "\n",
            "Summary\n",
            "The Merge Sort algorithm is a divide-and-conquer algorithm that sorts an array in ascending order with a time complexity of O(n log n). It works by recursively dividing the array into two halves, sorting each half, and merging the sorted halves into a single sorted array.\n",
            "\n",
            "Remember that there are other sorting algorithms available, such as Bubble Sort, Selection Sort, Insertion Sort, Quick Sort, and Heap Sort. Each algorithm has its own advantages and disadvantages in terms of time and space complexity, stability, and ease of implementation. Choose the algorithm that best suits your needs and preferences.\n",
            "Please give code for the following question in C++ also give the explanation for your answer. Use the context above if it is helpful.\n",
            "\n",
            "Write an algorithm to make arryay of size n sorted in ascedning order\n",
            "\n",
            "Certainly! Here's a C++ implementation of the Merge Sort algorithm to sort an array of size n in ascending order:\n",
            "\n",
            "```cpp\n",
            "#include <iostream>\n",
            "#include <vector>\n",
            "\n",
            "using namespace std;\n",
            "\n",
            "// Merge two sorted arrays into a single sorted array\n",
            "vector<int> merge(vector<int>& left, vector<int>& right) {\n",
            "    vector<int> result;\n",
            "    int i = 0, j = 0;\n",
            "\n",
            "    // Compare elements from both arrays and add the smaller one to the result array\n",
            "    while (i < left.size() && j < right.size()) {\n",
            "        if (left[i] <= right[j]) {\n",
            "            result.push_back(left[i]);\n",
            "            i++;\n",
            "        } else {\n",
            "            result.push_back(right[j]);\n",
            "            j++;\n",
            "        }\n",
            "    }\n",
            "\n",
            "    // Add the remaining elements from the left array\n",
            "    while (i < left.size()) {\n",
            "        result.push_back(left[i]);\n",
            "        i++;\n",
            "    }\n",
            "\n",
            "    // Add the remaining elements from the right array\n",
            "    while (j < right.size()) {\n",
            "        result.push_back(right[j]);\n",
            "        j++;\n",
            "    }\n",
            "\n",
            "    return result;\n",
            "}\n",
            "\n",
            "// Merge Sort algorithm\n",
            "vector<int> mergeSort(vector<int>& arr, int start, int end) {\n",
            "    if (start == end) {\n",
            "        // Base case: if the array has only one element, return it as the sorted array\n",
            "        return {arr[start]};\n",
            "    }\n",
            "\n",
            "    int mid = (start + end) / 2;\n",
            "\n",
            "    // Recursively sort the left and right halves of the array\n",
            "    vector<int> left = mergeSort(arr, start, mid);\n",
            "    vector<int> right = mergeSort(arr, mid + 1, end);\n",
            "\n",
            "    // Merge the sorted left and right halves\n",
            "    return merge(left, right);\n",
            "}\n",
            "\n",
            "int main() {\n",
            "    int n;\n",
            "    cout << \"Enter the size of the array: \";\n",
            "    cin >> n;\n",
            "\n",
            "    vector<int> arr(n);\n",
            "    cout << \"Enter the elements of the array: \";\n",
            "    for (int i = 0; i < n; i++) {\n",
            "        cin >> arr[i];\n",
            "    }\n",
            "\n",
            "    // Sort the array using Merge Sort\n",
            "    vector<int> sortedArr = mergeSort(arr, 0, n - 1);\n",
            "\n",
            "    cout << \"Sorted array: \";\n",
            "    for (int i = 0; i < n; i++) {\n",
            "        cout << sortedArr[i] << \" \";\n",
            "    }\n",
            "    cout << endl;\n"
          ]
        }
      ]
    },
    {
      "cell_type": "markdown",
      "source": [
        "##Recommentation System"
      ],
      "metadata": {
        "id": "0G4ZM7VZkGFV"
      }
    },
    {
      "cell_type": "code",
      "source": [
        "import requests\n",
        "from bs4 import BeautifulSoup\n",
        "Tags = [\"strings\"]\n",
        "Rating  = int(input(\"Enter your current rating:\"))\n",
        "for Tag in Tags:\n",
        "  url = f\"https://codeforces.com/problemset?tags={Tag},{Rating+100}-{Rating+200}\"\n",
        "  r = requests.get(url)\n",
        "  soup = BeautifulSoup(r.content, 'html.parser')\n",
        "  elems = soup.find_all('div',style=\"float: left;\")\n",
        "  i = 0\n",
        "  for elem in elems:\n",
        "    anchor_tag = elem.find('a')\n",
        "    href_value = anchor_tag.get('href')\n",
        "    print(f\"https://codeforces.com{href_value}\")\n",
        "    i += 1\n",
        "    if i == 5:\n",
        "      break"
      ],
      "metadata": {
        "id": "zox7sk_lkMLs"
      },
      "execution_count": null,
      "outputs": []
    }
  ]
}